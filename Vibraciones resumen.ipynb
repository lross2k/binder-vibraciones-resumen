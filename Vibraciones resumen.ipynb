{
 "cells": [
  {
   "cell_type": "markdown",
   "id": "ec328b8a",
   "metadata": {},
   "source": [
    "# Vibraciones mecánicas, soluciones generales y particulares\n",
    "Autor: lross2k 8/6/21\n",
    "\n",
    "Ingresar sus variables $\\bar{M}$, $\\bar{C}$, $\\bar{K}$ y $\\bar{F}$ para la ecuación diferencial en la siguiente forma:\n",
    "\n",
    "$$\\ddot X \\bar{M} + \\dot X \\bar{C} + X \\bar{K} = \\bar{F} \\sin(\\omega_0 t)$$\n",
    "**Asignar cero a los valores inexistentes\\***\n",
    "\n",
    "Esta ecuación puede ser obtenida por múltiples métodos según el problema que se tenga, dado que esto corresponde a un proceso de análisis no se cubrirá el cómo llegar a la ecuación."
   ]
  },
  {
   "cell_type": "code",
   "execution_count": 1,
   "id": "4ae71590",
   "metadata": {},
   "outputs": [],
   "source": [
    "import numpy as np       # Para funciones matemáticas\n",
    "from enum import Enum    # Enumerar tipo de sistema\n",
    "\n",
    "Tipos = Enum(\"Tipos\", \"UNSOLV CERO SUB SOBRE CRIT\")\n",
    "\n",
    "# Declarar variables del problema\n",
    "M = 140\n",
    "C = 69\n",
    "K = 3200\n",
    "F = 20\n",
    "\n",
    "# Verificar tipo de sistema inicial\n",
    "if M != 0 and K != 0:\n",
    "    sistema = Tipos.CERO\n",
    "else:\n",
    "    print(\"El sistema no se puede resolver\")\n",
    "    sistema = Tipos.UNSOLV"
   ]
  },
  {
   "cell_type": "markdown",
   "id": "7a7c5f49",
   "metadata": {},
   "source": [
    "## Caso libre no amortiguado\n",
    "Cuando $\\bar{C} = \\bar{F} = 0$, se calcula la frecuencia natural con la siguiente fórmula:\n",
    "\n",
    "$$\\omega_n = \\sqrt{\\frac{\\bar{K}}{\\bar{M}}} \\ \\textrm{[rad/s]}$$"
   ]
  },
  {
   "cell_type": "code",
   "execution_count": 2,
   "id": "72ab395b",
   "metadata": {},
   "outputs": [
    {
     "name": "stdout",
     "output_type": "stream",
     "text": [
      "Frecuencia natural: 4.780914437337574 rad/s\n"
     ]
    }
   ],
   "source": [
    "if sistema != Tipos.UNSOLV:\n",
    "    w_n = np.sqrt(K/M)\n",
    "    print(\"Frecuencia natural:\",w_n,\"rad/s\")"
   ]
  },
  {
   "cell_type": "markdown",
   "id": "9ebf5a39",
   "metadata": {},
   "source": [
    "La solución general de este sistema se rige por la ecuación $x = A \\sin{\\omega_n t} + B \\cos{\\omega_n t}$ para la cual $A$ y $B$ deben ser obtenidas despejando la ecuación con valores iniciales o conocidos del problema, de igual manera se conocen la ecuación de velocidad y aceleración tomando las derivadas de esta-\n",
    "\n",
    "$$x = A \\sin{\\omega_n t} + B \\cos{\\omega_n t}$$\n",
    "$$v = \\dot x = A \\omega_n \\cos{\\omega_n t} - B \\omega_n \\sin{\\omega_n t}$$\n",
    "$$a = \\ddot x = - A \\omega_n^2 \\sin{\\omega_n t} - B \\omega_n^2 \\cos{\\omega_n t}$$\n",
    "\n",
    "Al igual que puede utilizarsa las siguientes ecuaciones donde $C$ y $\\phi$ se deben encontrar mediante valores conocidos o relacionando con $A$ y $B$\n",
    "\n",
    "$$x = C \\sin(\\omega_n t + \\phi)$$\n",
    "$$A = C \\cos{\\phi}$$\n",
    "$$B = C \\sin{\\phi}$$\n",
    "\n",
    "Cabe destacar que $C$ corresponde a la amplitud de vibración y **es distinto de $\\bar{C}$**\n",
    "\n",
    "La ecuación sinuidal $x = C \\sin(\\omega_n t + \\phi)$ completa un ciclo cada $\\tau$ segundos, este valor es conocido como el *periodo* y se calcula mediante la siguiente ecuación:\n",
    "\n",
    "$$\\tau = \\frac{2 \\pi}{\\omega_n}$$\n",
    "\n",
    "y del *periodo* $\\tau$ es posible obtener la *frecuencia* $f$ en hertz o viseversa con la relación:\n",
    "\n",
    "$$f = \\frac{1}{\\tau} = \\frac{\\omega_n}{2 \\pi}$$"
   ]
  },
  {
   "cell_type": "code",
   "execution_count": 3,
   "id": "ba1623d4",
   "metadata": {},
   "outputs": [
    {
     "name": "stdout",
     "output_type": "stream",
     "text": [
      "El periodo del sistema corresponde a: 1.3142224964558467 segundos\n",
      "La frecuencia del sistema es: 0.7609061652016824 hertz\n"
     ]
    }
   ],
   "source": [
    "if sistema != Tipos.UNSOLV:\n",
    "    t = 2*np.pi/w_n\n",
    "    f = 1/t\n",
    "    print(\"El periodo del sistema corresponde a:\",t,\"segundos\\n\"\n",
    "    \"La frecuencia del sistema es:\",f,\"hertz\")"
   ]
  },
  {
   "cell_type": "markdown",
   "id": "65060bab",
   "metadata": {},
   "source": [
    "## Caso forzado no amortiguado\n",
    "Cuando sólo $\\bar{C} = 0$ se puede obtener la *solución particual* del sistema fácilmente mediante la siguiente ecuación:\n",
    "\n",
    "$$X_p = \\frac{\\bar{F}/\\bar{K}}{1 - (\\omega_0/\\omega_n)^2} \\sin{\\omega_0 t}$$\n",
    "\n",
    "la *solución general* puede ser obtenida al sumar dos ecuaciones sinoidales de diferente frecuencia $X = X_c + X_p$, así:\n",
    "\n",
    "$$X = C \\sin(\\omega_n t + \\phi) + \\frac{\\bar{F}/\\bar{K}}{1 - (\\omega_0/\\omega_n)^2} \\sin{\\omega_0 t}$$\n",
    "\n",
    "## Caso libre amortiguado\n",
    "Cuando sólo $\\bar{F} = 0$ se analiza el tipo de amortiguamiento presente\n",
    "\n",
    "$$C_c = 2 \\bar{M} \\sqrt{\\frac{\\bar{K}}{\\bar{M}}} = 2 \\bar{M} \\omega_n$$"
   ]
  },
  {
   "cell_type": "code",
   "execution_count": 4,
   "id": "fbbe97d5",
   "metadata": {},
   "outputs": [
    {
     "name": "stdout",
     "output_type": "stream",
     "text": [
      "El coficiente de amortiguación crítico es: 1338.6560424545207 N s/m\n"
     ]
    }
   ],
   "source": [
    "if sistema != Tipos.UNSOLV:\n",
    "    c_c = 2*M*w_n\n",
    "    print(\"El coficiente de amortiguación crítico es:\",c_c,\"N s/m\")\n",
    "    \n",
    "    # Determinar si el sistema es amortiguado\n",
    "    if C != 0:\n",
    "        sistema = Tipos.SOBRE\n",
    "    else:\n",
    "        print(\"El sistema no es amortiguado\")"
   ]
  },
  {
   "cell_type": "markdown",
   "id": "e27a62e9",
   "metadata": {},
   "source": [
    "### Tipos de amortiguamiento\n",
    "Empleando el valor $C_c$ obtenido es posbile comparar con $\\bar{C}$ para determinar el comportamiento de las vibraciones en el sistema.\n",
    "\n",
    "- Sobre-amortiguado\n",
    "\n",
    "Cuando $\\bar{C} > C_c$ significa que el amortiguamiento es tan fuerte que cualquier cambio forzado en el sistema simplemente volverá a su estado de equilibrio, ***no hay vibraciones*** y la solución general se escribe como:\n",
    "\n",
    "$$X = A \\epsilon^{\\lambda_1 t} + B \\epsilon^{\\lambda_2 t}$$\n",
    "*con $\\lambda_1$ y $\\lambda_2$ números reales\\**\n",
    "\n",
    "- Críticamente amortiguado\n",
    "\n",
    "Si $\\bar{C} = C_c$ entonces el sistema se encuentra justo en el valor de $\\bar{C}$ necesario para ***no vibrar***, su solución corresponde a la ecuación:\n",
    "\n",
    "$$X = (A + B t) \\epsilon^{- \\omega_n t}$$\n",
    "\n",
    "- Sub-amortiguado\n",
    "\n",
    "Siempre que $\\bar{C} < C_c$ se tiene que $\\lambda_1$ y $\\lambda_2$ son números complejos y una solución se escribe como:\n",
    "\n",
    "$$X_c = D [\\epsilon^{(\\bar{C}/2 \\bar{M}) t} \\sin(\\omega_d t + \\phi)]$$\n",
    "*donde $D$ y $\\phi$ son constantes obtenidas de las condiciones iniciales\\**\n",
    "\n",
    "El $\\omega_d$ se conoce como *frecuencia natural amortiguada* y se obtiene de las siguiente maneras\n",
    "\n",
    "$$\\omega_d = \\sqrt{\\frac{\\bar{K}}{\\bar{M}} - \\left(\\frac{\\bar{C}}{2 \\bar{M}}\\right)^2} = \\omega_n\\sqrt{1-\\left(\\frac{\\bar{C}}{C_c}\\right)^2}$$\n",
    "\n",
    "Con este valor también es posible calcular el periodo de vibración amortiguada\n",
    "\n",
    "$$\\tau_d = \\frac{2 \\pi}{\\omega_d}$$\n",
    "\n",
    "La relación de $\\bar{C}$ con $C_c$ es conocida como el factor de amortiguamiento, si $\\zeta < 1$ es **sub-amortiguado**, si $\\zeta > 1$ es **sobre-amortiguado** y cuando $\\zeta = 1$ es **críticamente amortiguado**, adicionalmente si tiende a cero significa que el sistema puede ser no amortiguado\n",
    "\n",
    "$$\\zeta = \\frac{\\bar{C}}{C_c}$$"
   ]
  },
  {
   "cell_type": "code",
   "execution_count": 5,
   "id": "daa92807",
   "metadata": {},
   "outputs": [
    {
     "name": "stdout",
     "output_type": "stream",
     "text": [
      "Sistema sub-amortiguado\n",
      "Frecuencia natural amortiguada:  4.774559227439379 rad/s\n",
      "Periodo de vibración amortiguada: 1.315971801348727 segundos\n"
     ]
    }
   ],
   "source": [
    "if sistema != Tipos.UNSOLV and sistema != Tipos.CERO:\n",
    "    # Analizar tipo de sistema amortiguado\n",
    "    if C > c_c:\n",
    "        sitema = Tipos.SOBRE\n",
    "        print(\"Sistema sobre-amortiguado\")\n",
    "    elif C == c_c:\n",
    "        sitema = Tipos.CRIT\n",
    "        print(\"Sistema críticamente amortiguado\")\n",
    "    else:\n",
    "        sitema = Tipos.SUB\n",
    "        print(\"Sistema sub-amortiguado\")\n",
    "    \n",
    "    # Calcular valores de vibración\n",
    "    w_d = w_n * np.sqrt(1 - (C/c_c)**2)\n",
    "    t_d = 2*np.pi/w_d\n",
    "    \n",
    "    print(\"Frecuencia natural amortiguada: \",w_d,\"rad/s\\n\"\n",
    "         \"Periodo de vibración amortiguada:\",t_d,\"segundos\")"
   ]
  },
  {
   "cell_type": "markdown",
   "id": "a9817e62",
   "metadata": {},
   "source": [
    "## Caso forzado amortiguado\n",
    "Se puede calcular la amplitud de vibración $X'$ y el ángulo de desfase $\\phi'$ entre fuerza aplicada y vibración del sistema con las siguientes ecuaciones\n",
    "\n",
    "$$X' = \\frac{\\bar{F}}{\\sqrt{(\\bar{K} - \\bar{M} \\omega_0^2)^2 + \\bar{C}^2 \\omega_0^2}} = \\frac{\\bar{F}/\\bar{K}}{\\sqrt{[1 - (\\omega_0/\\omega_n)^2]^2 + [2 (\\bar{C}/C_c)(\\omega_0/\\omega_n)]^2}}$$\n",
    "\n",
    "$$\\phi' = \\arctan \\left[ \\frac{\\bar{C} \\omega_0}{\\bar{K} - \\bar{M} \\omega_0^2} \\right] = \\arctan \\left[ \\frac{2(\\bar{C}/C_c)(\\omega_0/\\omega_n)}{1 - (\\omega_0/\\omega_n)^2} \\right]$$\n",
    "\n",
    "la *solución general* puede ser obtenida al sumar dos ecuaciones sinoidales de diferente frecuencia $X = X_c + X_p$ donde $X_p$ debe ser calculada usando la amplitud $X'$ según el dato necesario\n",
    "\n",
    "$$X = D [\\epsilon^{(\\bar{C}/2 \\bar{M}) t} \\sin(\\omega_d t + \\phi)] + X_p$$"
   ]
  }
 ],
 "metadata": {
  "kernelspec": {
   "display_name": "Python 3",
   "language": "python",
   "name": "python3"
  },
  "language_info": {
   "codemirror_mode": {
    "name": "ipython",
    "version": 3
   },
   "file_extension": ".py",
   "mimetype": "text/x-python",
   "name": "python",
   "nbconvert_exporter": "python",
   "pygments_lexer": "ipython3",
   "version": "3.9.1"
  }
 },
 "nbformat": 4,
 "nbformat_minor": 5
}
